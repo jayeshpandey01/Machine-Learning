{
 "cells": [
  {
   "cell_type": "markdown",
   "metadata": {},
   "source": [
    "\n",
    "1. About ANN - https://en.wikipedia.org/wiki/Artific...\n",
    "2. About CNN - https://en.wikipedia.org/wiki/Convolu...\n",
    "3. yann le cunn - https://en.wikipedia.org/wiki/Yann_LeCun\n",
    "4. About RNN - https://en.wikipedia.org/wiki/Recurre...\n",
    "5. About Autoencoders - https://en.wikipedia.org/wiki/Autoenc...\n",
    "6. About GAN - https://machinelearningmastery.com/wh... \n",
    "7. Unsupervised Pre-training - https://www.jmlr.org/papers/volume11/...\n",
    "8. ImageNET - https://www.image-net.org/\n",
    "9. Alphago -    • AlphaGo - The Movie | Full award-winn...  \n",
    "10. Image Colorization - https://pyimagesearch.com/2019/02/25/...\n",
    "11. Audio gen in mute video -    • AI Synthesized Sound: Rain  \n",
    "12. Image Caption gen - https://www.analyticsvidhya.com/blog/...\n",
    "13. Pixel Restoration - https://www.analyticsvidhya.com/blog/...\n",
    "14. This person does not exist - https://thispersondoesnotexist.com/\n",
    "15. AI generates story -    • Sunspring | A Sci-Fi Short Film Starr...  \n",
    "15. Deep Dream -    • A.I. ART TUTORIAL  -   DEEP DREAM Gen...  \n"
   ]
  },
  {
   "cell_type": "markdown",
   "metadata": {},
   "source": [
    "## **Reference** <br>\n",
    "**`Introducation of TensorFlow`** = https://colab.research.google.com/drive/1F_EWVKa8rbMXi3_fG0w7AtcscFq7Hi7B#forceEdit=true&sandboxMode=true&scrollTo=TAk6QhGUwQRt"
   ]
  },
  {
   "cell_type": "markdown",
   "metadata": {},
   "source": [
    "## **AI (Atifical Intelligent)**"
   ]
  },
  {
   "cell_type": "markdown",
   "metadata": {},
   "source": [
    "suppose we train a model in that model we given the some condtion and algorithm to perform at a particular instant of time/ condition that kind of thing is know as a AI.\n",
    "`Machine learning` is a subset of `artificial intelligence`.\n",
    "\n",
    "For Example:\n",
    " **Packman Game** (Use BFS/DFS to finding the shortest path)\n",
    "**Packman Game:** \n",
    "Packman is a simple game where a packman is placed in a grid and the objective is to reach the food pellets while avoiding the ghosts. The game is played on a grid of size 10x10. The packman can move up, down, left right. The ghosts can move in any direction. The game ends when the packman eats all the food pellets or collides with a ghost.\n",
    "\n"
   ]
  },
  {
   "cell_type": "markdown",
   "metadata": {},
   "source": [
    "![alt text](../Day_01/image.png)"
   ]
  },
  {
   "cell_type": "markdown",
   "metadata": {},
   "source": [
    "**Machine Learning** \n",
    "Machine learning is a subset of artificial intelligence that involves the use of algorithms and statistical models to enable machines\n",
    "to perform a specific task without using explicit instructions, relying on patterns and data to make decisions or predictions\n",
    "\n",
    "**Types of Machine Learning**\n",
    "1. **Supervised Learning**: In this type of learning, the algorithm is trained on labeled data\n",
    "2. **Unsupervised Learning**: In this type of learning, the algorithm is trained on unlabeled data\n",
    "3. **Reinforcement Learning**: In this type of learning, the algorithm learns by interacting with\n",
    "the environment and receiving rewards or penalties for its actions\n",
    "\n",
    "![Learning](../Day_01/learning.png)\n",
    "\n",
    "**Neural Network**\n",
    "A neural network is a type of machine learning model inspired by the structure and function of the human brain\n",
    "It consists of layers of interconnected nodes or \"neurons\" that process and transmit information\n",
    "The nodes are connected by edges, and each node applies an activation function to the weighted sum of its\n",
    "inputs to produce an output\n",
    "\n",
    "**Deep Learning**\n",
    "Deep learning is a subset of machine learning that involves the use of neural networks with multiple layers\n",
    "These networks are designed to learn complex patterns in data, such as images and speech\n",
    "Deep learning models are trained using large datasets and can learn to recognize patterns and make predictions\n"
   ]
  },
  {
   "cell_type": "markdown",
   "metadata": {},
   "source": [
    "![alt text](<../Day_01/image copy.png>)"
   ]
  },
  {
   "cell_type": "markdown",
   "metadata": {},
   "source": [
    "**TensorFlow** <br>\n",
    "TensorFlow is an open-source software library for numerical computation, particularly well-suited for large-scale machine learning tasks. It was developed by the Google Brain team for internal use and later released under the Apache License 2.0.\n",
    "TensorFlow is a popular choice for deep learning tasks, including image and speech recognition, natural language processing, and more. It provides a wide range of tools and APIs for building and training machine learning models.\n",
    "\n",
    "![alt text](../Day_01/Tensorflow.png)\n"
   ]
  },
  {
   "cell_type": "markdown",
   "metadata": {},
   "source": [
    "**Note:** I don't have `GPU` Laptop that why it will shows Error (We can use `Google Colab` for that purpose)"
   ]
  },
  {
   "cell_type": "code",
   "execution_count": 1,
   "metadata": {},
   "outputs": [
    {
     "data": {
      "text/plain": [
       "'2.16.1'"
      ]
     },
     "execution_count": 1,
     "metadata": {},
     "output_type": "execute_result"
    }
   ],
   "source": [
    "import tensorflow as tf\n",
    "tf.__version__"
   ]
  },
  {
   "cell_type": "markdown",
   "metadata": {},
   "source": [
    "## Tensors \n",
    "\"A tensor is a generalization of vectors and matrices to potentially higher dimensions. Internally, TensorFlow represents tensors as n-dimensional arrays of base datatypes.\" (https://www.tensorflow.org/guide/tensor)\n",
    "\n",
    "It should't surprise you that tensors are a fundemental apsect of TensorFlow. They are the main objects that are passed around and manipluated throughout the program. Each tensor represents a partialy defined computation that will eventually produce a value. TensorFlow programs work by building a graph of Tensor objects that details how tensors are related. Running different parts of the graph allow results to be generated.\n",
    "\n",
    "Each tensor has a data type and a shape. \n",
    "\n",
    "**Data Types Include**: float32, int32, string and others.\n",
    "\n",
    "**Shape**: Represents the dimension of data.\n",
    "\n",
    "Just like vectors and matrices tensors can have operations applied to them like addition, subtraction, dot product, cross product etc.\n",
    "\n",
    "In the next sections we will discuss some different properties of tensors. This is to make you more familiar with how tensorflow represnts data and how you can manipulate this data.\n"
   ]
  },
  {
   "cell_type": "code",
   "execution_count": 2,
   "metadata": {},
   "outputs": [],
   "source": [
    "string_Tensor = tf.Variable(\"This is a String Tensor\", tf.string)\n",
    "integer_number = tf.Variable(44, tf.int16)\n",
    "floting_number = tf.Variable(3.14, tf.float16)"
   ]
  },
  {
   "cell_type": "code",
   "execution_count": 3,
   "metadata": {},
   "outputs": [
    {
     "data": {
      "text/plain": [
       "(<tf.Variable 'Variable:0' shape=() dtype=string, numpy=b'This is a String Tensor'>,\n",
       " <tf.Variable 'Variable:0' shape=() dtype=int32, numpy=44>,\n",
       " <tf.Variable 'Variable:0' shape=() dtype=float32, numpy=3.14>)"
      ]
     },
     "execution_count": 3,
     "metadata": {},
     "output_type": "execute_result"
    }
   ],
   "source": [
    "string_Tensor, integer_number, floting_number"
   ]
  },
  {
   "cell_type": "code",
   "execution_count": 4,
   "metadata": {},
   "outputs": [
    {
     "name": "stdout",
     "output_type": "stream",
     "text": [
      "Help on function rank in module tensorflow.python.ops.array_ops:\n",
      "\n",
      "rank(input, name=None)\n",
      "    Returns the rank of a tensor.\n",
      "\n",
      "    See also `tf.shape`.\n",
      "\n",
      "    Returns a 0-D `int32` `Tensor` representing the rank of `input`.\n",
      "\n",
      "    For example:\n",
      "\n",
      "    ```python\n",
      "    # shape of tensor 't' is [2, 2, 3]\n",
      "    t = tf.constant([[[1, 1, 1], [2, 2, 2]], [[3, 3, 3], [4, 4, 4]]])\n",
      "    tf.rank(t)  # 3\n",
      "    ```\n",
      "\n",
      "    **Note**: The rank of a tensor is not the same as the rank of a matrix. The\n",
      "    rank of a tensor is the number of indices required to uniquely select each\n",
      "    element of the tensor. Rank is also known as \"order\", \"degree\", or \"ndims.\"\n",
      "\n",
      "    Args:\n",
      "      input: A `Tensor` or `SparseTensor`.\n",
      "      name: A name for the operation (optional).\n",
      "\n",
      "    Returns:\n",
      "      A `Tensor` of type `int32`.\n",
      "\n",
      "    @compatibility(numpy)\n",
      "    Equivalent to np.ndim\n",
      "    @end_compatibility\n",
      "\n"
     ]
    }
   ],
   "source": [
    "help(tf.rank)"
   ]
  },
  {
   "cell_type": "code",
   "execution_count": null,
   "metadata": {},
   "outputs": [],
   "source": []
  }
 ],
 "metadata": {
  "kernelspec": {
   "display_name": "Python 3",
   "language": "python",
   "name": "python3"
  },
  "language_info": {
   "codemirror_mode": {
    "name": "ipython",
    "version": 3
   },
   "file_extension": ".py",
   "mimetype": "text/x-python",
   "name": "python",
   "nbconvert_exporter": "python",
   "pygments_lexer": "ipython3",
   "version": "3.12.3"
  }
 },
 "nbformat": 4,
 "nbformat_minor": 2
}
